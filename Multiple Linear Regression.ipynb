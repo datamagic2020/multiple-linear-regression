{
 "cells": [
  {
   "cell_type": "code",
   "execution_count": 6,
   "metadata": {},
   "outputs": [],
   "source": [
    "#Import packages\n",
    "import numpy as np\n",
    "import pandas as pd\n",
    "from sklearn.model_selection import train_test_split\n",
    "from sklearn.linear_model import LinearRegression"
   ]
  },
  {
   "cell_type": "code",
   "execution_count": 7,
   "metadata": {},
   "outputs": [
    {
     "name": "stdout",
     "output_type": "stream",
     "text": [
      "   Training Expense  Innovation Lab Expense  Reward Expense    Profit\n",
      "0          63408.86               129219.61        46085.25  97427.84\n",
      "1          55493.95               103057.49       214634.81  96778.92\n",
      "2          46426.07               157693.92       210797.67  96712.80\n",
      "3          46014.02                85047.44       205517.64  96479.51\n",
      "4          28663.76               127056.21       201126.82  90708.19\n"
     ]
    }
   ],
   "source": [
    "#load data\n",
    "dataset = pd.read_csv('Companies_R&D_expense.csv')\n",
    "X = dataset.iloc[:, :-1].values\n",
    "y = dataset.iloc[:, 3].values\n",
    "print(dataset.head())"
   ]
  },
  {
   "cell_type": "code",
   "execution_count": 8,
   "metadata": {},
   "outputs": [
    {
     "name": "stdout",
     "output_type": "stream",
     "text": [
      "X_train : [[114523.61 122616.84 261776.23]\n",
      " [ 94657.16 145077.58 282574.31]\n",
      " [120542.52 148718.95 311613.29]\n",
      " [ 78013.11 121597.55 264346.06]\n",
      " [165349.2  136897.8  471784.1 ]\n",
      " [ 38558.51  82982.09 174999.3 ]\n",
      " [  1315.46 115816.21 297114.46]\n",
      " [ 72107.6  127864.55 353183.81]\n",
      " [ 61994.48 115641.28  91131.24]\n",
      " [100671.96  91790.61 249744.55]\n",
      " [     0.   135426.92      0.  ]\n",
      " [ 93863.75 127320.38 249839.44]\n",
      " [119943.24 156547.42 256512.92]\n",
      " [   542.05  51743.15      0.  ]\n",
      " [ 77044.01  99281.34 140574.81]\n",
      " [153441.51 101145.55 407934.54]\n",
      " [ 64664.71 139553.16 137962.62]\n",
      " [ 28754.33 118546.05 172795.67]\n",
      " [  1000.23 124153.04   1903.93]\n",
      " [130298.13 145530.06 323876.68]\n",
      " [ 44069.95  51283.14 197029.42]\n",
      " [     0.   116983.8   45173.06]\n",
      " [ 73994.56 122782.75 303319.26]\n",
      " [ 61136.38 152701.92  88218.23]\n",
      " [ 55493.95 103057.49 214634.81]\n",
      " [ 22177.74 154806.14  28334.72]\n",
      " [ 86419.7  153514.11      0.  ]\n",
      " [134615.46 147198.87 127716.82]\n",
      " [ 20229.59  65947.93 185265.1 ]\n",
      " [131876.9   99814.71 362861.36]\n",
      " [ 91749.16 114175.79 294919.57]\n",
      " [144372.41 118671.85 383199.62]\n",
      " [162597.7  151377.59 443898.53]\n",
      " [ 27892.92  84710.77 164470.71]\n",
      " [ 78389.47 153773.43 299737.29]\n",
      " [ 66051.52 182645.56 118148.2 ]\n",
      " [ 46014.02  85047.44 205517.64]\n",
      " [ 63408.86 129219.61  46085.25]\n",
      " [ 65605.48 153032.06 107138.38]\n",
      " [ 75328.87 144135.98 134050.07]]\n",
      "X_test : [[101913.08 110594.11 229160.95]\n",
      " [ 15505.73 127382.3   35534.17]\n",
      " [ 23640.93  96189.63 148001.11]\n",
      " [ 67532.53 105751.03 304768.73]\n",
      " [ 46426.07 157693.92 210797.67]\n",
      " [123334.88 108679.17 304981.62]\n",
      " [ 76253.86 113867.3  298664.47]\n",
      " [ 91992.39 135495.07 252664.93]\n",
      " [142107.34  91391.77 366168.42]\n",
      " [ 28663.76 127056.21 201126.82]]\n",
      "y_train : [129917.04 125370.37 152211.77 126992.93 192261.83  81005.76  49490.75\n",
      " 105008.31  99937.59 144259.4   42559.73 141585.52 132602.65  35673.41\n",
      " 108552.04 191050.39 107404.34  78239.91  64926.08 155752.6   89949.14\n",
      "  14681.4  110352.25  97483.56  96778.92  65200.33 122776.86 156122.51\n",
      "  81229.06 156991.12 124266.9  182901.99 191792.06  77798.83 111313.02\n",
      " 103282.38  96479.51  97427.84 101004.64 105733.54]\n",
      "y_test : [146121.95  69758.98  71498.49 108733.99  96712.8  149759.96 118474.03\n",
      " 134307.35 166187.94  90708.19]\n"
     ]
    }
   ],
   "source": [
    "#split data\n",
    "X_train, X_test, y_train, y_test = train_test_split(X, y, test_size = 1/5, random_state = 0)\n",
    "print(\"X_train :\",X_train)\n",
    "print(\"X_test :\",X_test)\n",
    "print(\"y_train :\",y_train)\n",
    "print(\"y_test :\",y_test)"
   ]
  },
  {
   "cell_type": "code",
   "execution_count": 9,
   "metadata": {},
   "outputs": [
    {
     "data": {
      "text/plain": [
       "LinearRegression()"
      ]
     },
     "execution_count": 9,
     "metadata": {},
     "output_type": "execute_result"
    }
   ],
   "source": [
    "#Train model\n",
    "model = LinearRegression()\n",
    "model.fit(X_train, y_train)"
   ]
  },
  {
   "cell_type": "code",
   "execution_count": 10,
   "metadata": {},
   "outputs": [
    {
     "name": "stdout",
     "output_type": "stream",
     "text": [
      "Predicted profit : [135959.98280965  57666.79131858  68883.03777226 108637.05124764\n",
      "  85424.19726442 155781.75288658 115377.63750649 126378.43977498\n",
      " 174073.93075243  72180.12374441]\n"
     ]
    }
   ],
   "source": [
    "#do prediction\n",
    "pred_result = model.predict(X_test)\n",
    "print(\"Predicted profit :\",pred_result)"
   ]
  },
  {
   "cell_type": "code",
   "execution_count": null,
   "metadata": {},
   "outputs": [],
   "source": []
  }
 ],
 "metadata": {
  "kernelspec": {
   "display_name": "base",
   "language": "python",
   "name": "base"
  },
  "language_info": {
   "codemirror_mode": {
    "name": "ipython",
    "version": 3
   },
   "file_extension": ".py",
   "mimetype": "text/x-python",
   "name": "python",
   "nbconvert_exporter": "python",
   "pygments_lexer": "ipython3",
   "version": "3.6.8"
  }
 },
 "nbformat": 4,
 "nbformat_minor": 2
}
